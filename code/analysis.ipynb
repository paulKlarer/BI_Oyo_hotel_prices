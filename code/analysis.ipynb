{
 "cells": [
  {
   "metadata": {},
   "cell_type": "markdown",
   "source": "# Preprocessing\n",
   "id": "716a871ad66df93d"
  },
  {
   "metadata": {
    "ExecuteTime": {
     "end_time": "2024-06-18T04:06:34.089162Z",
     "start_time": "2024-06-18T04:06:33.995581Z"
    }
   },
   "cell_type": "code",
   "source": [
    "import pandas as pd\n",
    "\n",
    "# Load the datasets\n",
    "rental_price_data = pd.read_csv('../data/rental_price.csv')\n",
    "rating_features_data = pd.read_csv('../data/rating_features.csv')\n",
    "\n",
    "print(rental_price_data.head())\n",
    "print(rating_features_data.head())"
   ],
   "id": "initial_id",
   "outputs": [
    {
     "data": {
      "text/plain": [
       "(     price\n",
       " 0  $300.00\n",
       " 1   $99.00\n",
       " 2  $100.00\n",
       " 3  $100.00\n",
       " 4  $599.00,\n",
       "    accommodates                                          amenities  \\\n",
       " 0             6  {\"Cable TV\",Internet,\"Wireless Internet\",\"Air ...   \n",
       " 1             2  {\"Air Conditioning\",Heating,\"Family/Kid Friend...   \n",
       " 2             2  {TV,\"Cable TV\",Internet,\"Wireless Internet\",\"A...   \n",
       " 3             2  {TV,\"Cable TV\",Internet,\"Wireless Internet\",\"A...   \n",
       " 4             6  {TV,\"Cable TV\",Internet,\"Wireless Internet\",\"A...   \n",
       " \n",
       "    availability_30  bathrooms  bed_type  bedrooms  beds  \\\n",
       " 0                0        2.5  Real Bed       1.0   3.0   \n",
       " 1               29        0.0     Futon       1.0   1.0   \n",
       " 2               30        1.5  Real Bed       1.0   1.0   \n",
       " 3               30        1.5  Real Bed       1.0   1.0   \n",
       " 4               27        2.0  Real Bed       3.0   3.0   \n",
       " \n",
       "    calculated_host_listings_count cancellation_policy  guests_included  ...  \\\n",
       " 0                               1            moderate                1  ...   \n",
       " 1                               1            moderate                1  ...   \n",
       " 2                               2            flexible                1  ...   \n",
       " 3                               2            flexible                1  ...   \n",
       " 4                               2              strict                1  ...   \n",
       " \n",
       "   longitude(East) maximum_nights  number_of_reviews property_type  \\\n",
       " 0      114.059600             10                  1         House   \n",
       " 1      114.043225              7                  0     Camper/RV   \n",
       " 2      114.079426           1125                  0         House   \n",
       " 3      114.079035           1125                  0         House   \n",
       " 4      114.055590           1125                  0         House   \n",
       " \n",
       "    review_scores_checkin  review_scores_communication  review_scores_location  \\\n",
       " 0                   10.0                         10.0                    10.0   \n",
       " 1                    NaN                          NaN                     NaN   \n",
       " 2                    NaN                          NaN                     NaN   \n",
       " 3                    NaN                          NaN                     NaN   \n",
       " 4                    NaN                          NaN                     NaN   \n",
       " \n",
       "    review_scores_rating review_scores_value        room_type  \n",
       " 0                 100.0                10.0     Private room  \n",
       " 1                   NaN                 NaN     Private room  \n",
       " 2                   NaN                 NaN     Private room  \n",
       " 3                   NaN                 NaN     Private room  \n",
       " 4                   NaN                 NaN  Entire home/apt  \n",
       " \n",
       " [5 rows x 25 columns])"
      ]
     },
     "execution_count": 4,
     "metadata": {},
     "output_type": "execute_result"
    }
   ],
   "execution_count": 4
  },
  {
   "metadata": {
    "ExecuteTime": {
     "end_time": "2024-06-18T04:10:21.424675Z",
     "start_time": "2024-06-18T04:10:21.422076Z"
    }
   },
   "cell_type": "code",
   "source": "",
   "id": "ccf7e916e0eba681",
   "outputs": [],
   "execution_count": 5
  }
 ],
 "metadata": {
  "kernelspec": {
   "display_name": "Python 3",
   "language": "python",
   "name": "python3"
  },
  "language_info": {
   "codemirror_mode": {
    "name": "ipython",
    "version": 2
   },
   "file_extension": ".py",
   "mimetype": "text/x-python",
   "name": "python",
   "nbconvert_exporter": "python",
   "pygments_lexer": "ipython2",
   "version": "2.7.6"
  }
 },
 "nbformat": 4,
 "nbformat_minor": 5
}
